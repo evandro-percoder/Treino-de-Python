{
 "cells": [
  {
   "cell_type": "markdown",
   "metadata": {},
   "source": [
    "<h1>Testes com API's</h1>"
   ]
  },
  {
   "cell_type": "code",
   "execution_count": 2,
   "metadata": {},
   "outputs": [
    {
     "name": "stdout",
     "output_type": "stream",
     "text": [
      "O código de resposta da API:  <Response [200]>\n"
     ]
    }
   ],
   "source": [
    "import requests\n",
    "\n",
    "# chamada simples de API\n",
    "url = 'https://api.github.com/search/repositories?q=language:python&sort=stars'\n",
    "req = requests.get(url)\n",
    "print('O código de resposta da API: ', req)"
   ]
  },
  {
   "cell_type": "code",
   "execution_count": 12,
   "metadata": {},
   "outputs": [],
   "source": [
    "# armazenando a resposta no formato JSON\n",
    "\n",
    "response_json = req.json()\n",
    "#print(response_json)"
   ]
  },
  {
   "cell_type": "code",
   "execution_count": 11,
   "metadata": {},
   "outputs": [
    {
     "data": {
      "text/plain": [
       "dict_keys(['total_count', 'incomplete_results', 'items'])"
      ]
     },
     "execution_count": 11,
     "metadata": {},
     "output_type": "execute_result"
    }
   ],
   "source": [
    "# o formato json é o mesmo que um dicionário\n",
    "# apresenta as chaves do dicionário\n",
    "response_json.keys()"
   ]
  },
  {
   "cell_type": "code",
   "execution_count": 17,
   "metadata": {},
   "outputs": [
    {
     "name": "stdout",
     "output_type": "stream",
     "text": [
      "Total repositories: 4985812\n"
     ]
    }
   ],
   "source": [
    "# apresenta o total do repositório\n",
    "print('Total repositories: ', response_json['total_count'])"
   ]
  },
  {
   "cell_type": "code",
   "execution_count": 27,
   "metadata": {},
   "outputs": [
    {
     "name": "stdout",
     "output_type": "stream",
     "text": [
      "Repositories returned: 3\n"
     ]
    }
   ],
   "source": [
    "# Explora informações sobre os repositórios\n",
    "response_json['items']\n",
    "print(\"Repositories returned:\", len(response_json))"
   ]
  },
  {
   "cell_type": "code",
   "execution_count": 32,
   "metadata": {},
   "outputs": [
    {
     "data": {
      "text/plain": [
       "30"
      ]
     },
     "execution_count": 32,
     "metadata": {},
     "output_type": "execute_result"
    }
   ],
   "source": [
    "len(response_json['items'])"
   ]
  },
  {
   "cell_type": "code",
   "execution_count": null,
   "metadata": {},
   "outputs": [],
   "source": [
    "# apresenta os itens do dicionário\n",
    "new_dict = []\n",
    " \n",
    "for item in response_json['items']:    \n",
    "    new_dict.append(item)\n",
    "    print('\\n\\nItem of response: \\n\\n', item)"
   ]
  },
  {
   "cell_type": "code",
   "execution_count": 44,
   "metadata": {},
   "outputs": [
    {
     "name": "stdout",
     "output_type": "stream",
     "text": [
      "ID:  83222441\n",
      "Name:  system-design-primer\n",
      "URL:  https://api.github.com/repos/donnemartin/system-design-primer\n",
      "html_url:  https://github.com/donnemartin/system-design-primer\n",
      "Description:  Learn how to design large-scale systems. Prep for the system design interview.  Includes Anki flashcards.\n",
      "\n",
      "ID:  21289110\n",
      "Name:  awesome-python\n",
      "URL:  https://api.github.com/repos/vinta/awesome-python\n",
      "html_url:  https://github.com/vinta/awesome-python\n",
      "Description:  A curated list of awesome Python frameworks, libraries, software and resources\n",
      "\n",
      "ID:  54346799\n",
      "Name:  public-apis\n",
      "URL:  https://api.github.com/repos/public-apis/public-apis\n",
      "html_url:  https://github.com/public-apis/public-apis\n",
      "Description:  A collective list of free APIs for use in software and web development.\n",
      "\n",
      "ID:  63476337\n",
      "Name:  Python\n",
      "URL:  https://api.github.com/repos/TheAlgorithms/Python\n",
      "html_url:  https://github.com/TheAlgorithms/Python\n",
      "Description:  All Algorithms implemented in Python\n",
      "\n",
      "ID:  1039520\n",
      "Name:  youtube-dl\n",
      "URL:  https://api.github.com/repos/ytdl-org/youtube-dl\n",
      "html_url:  https://github.com/ytdl-org/youtube-dl\n",
      "Description:  Command-line program to download videos from YouTube.com and other video sites\n",
      "\n",
      "ID:  51117837\n",
      "Name:  models\n",
      "URL:  https://api.github.com/repos/tensorflow/models\n",
      "html_url:  https://github.com/tensorflow/models\n",
      "Description:  Models and examples built with TensorFlow\n",
      "\n",
      "ID:  33614304\n",
      "Name:  thefuck\n",
      "URL:  https://api.github.com/repos/nvbn/thefuck\n",
      "html_url:  https://github.com/nvbn/thefuck\n",
      "Description:  Magnificent app which corrects your previous console command.\n",
      "\n",
      "ID:  596892\n",
      "Name:  flask\n",
      "URL:  https://api.github.com/repos/pallets/flask\n",
      "html_url:  https://github.com/pallets/flask\n",
      "Description:  The Python micro framework for building web applications.\n",
      "\n",
      "ID:  4164482\n",
      "Name:  django\n",
      "URL:  https://api.github.com/repos/django/django\n",
      "html_url:  https://github.com/django/django\n",
      "Description:  The Web framework for perfectionists with deadlines.\n",
      "\n",
      "ID:  33015583\n",
      "Name:  keras\n",
      "URL:  https://api.github.com/repos/keras-team/keras\n",
      "html_url:  https://github.com/keras-team/keras\n",
      "Description:  Deep Learning for humans\n",
      "\n",
      "ID:  3544424\n",
      "Name:  httpie\n",
      "URL:  https://api.github.com/repos/jakubroztocil/httpie\n",
      "html_url:  https://github.com/jakubroztocil/httpie\n",
      "Description:  As easy as HTTPie /aitch-tee-tee-pie/  🥧 Modern command line HTTP client – user-friendly curl alternative with intuitive UI, JSON support, syntax highlighting, wget-like downloads, extensions, etc.  https://twitter.com/clihttp\n",
      "\n",
      "ID:  21872392\n",
      "Name:  awesome-machine-learning\n",
      "URL:  https://api.github.com/repos/josephmisiti/awesome-machine-learning\n",
      "html_url:  https://github.com/josephmisiti/awesome-machine-learning\n",
      "Description:  A curated list of awesome Machine Learning frameworks, libraries and software.\n",
      "\n",
      "ID:  3638964\n",
      "Name:  ansible\n",
      "URL:  https://api.github.com/repos/ansible/ansible\n",
      "html_url:  https://github.com/ansible/ansible\n",
      "Description:  Ansible is a radically simple IT automation platform that makes your applications and systems easier to deploy. Avoid writing scripts or custom code to deploy and update your applications — automate in a language that approaches plain English, using SSH, with no agents to install on remote systems. https://docs.ansible.com/ansible/\n",
      "\n",
      "ID:  1362490\n",
      "Name:  requests\n",
      "URL:  https://api.github.com/repos/psf/requests\n",
      "html_url:  https://github.com/psf/requests\n",
      "Description:  A simple, yet elegant HTTP library.\n",
      "\n",
      "ID:  843222\n",
      "Name:  scikit-learn\n",
      "URL:  https://api.github.com/repos/scikit-learn/scikit-learn\n",
      "html_url:  https://github.com/scikit-learn/scikit-learn\n",
      "Description:  scikit-learn: machine learning in Python\n",
      "\n",
      "ID:  529502\n",
      "Name:  scrapy\n",
      "URL:  https://api.github.com/repos/scrapy/scrapy\n",
      "html_url:  https://github.com/scrapy/scrapy\n",
      "Description:  Scrapy, a fast high-level web crawling & scraping framework for Python.\n",
      "\n",
      "ID:  40416236\n",
      "Name:  big-list-of-naughty-strings\n",
      "URL:  https://api.github.com/repos/minimaxir/big-list-of-naughty-strings\n",
      "html_url:  https://github.com/minimaxir/big-list-of-naughty-strings\n",
      "Description:  The Big List of Naughty Strings is a list of strings which have a high probability of causing issues when used as user-input data.\n",
      "\n",
      "ID:  83844720\n",
      "Name:  face_recognition\n",
      "URL:  https://api.github.com/repos/ageitgey/face_recognition\n",
      "html_url:  https://github.com/ageitgey/face_recognition\n",
      "Description:  The world's simplest facial recognition api for Python and the command line\n",
      "\n",
      "ID:  4086616\n",
      "Name:  shadowsocks\n",
      "URL:  https://api.github.com/repos/shadowsocks/shadowsocks\n",
      "html_url:  https://github.com/shadowsocks/shadowsocks\n",
      "Description:  None\n",
      "\n",
      "ID:  12888993\n",
      "Name:  core\n",
      "URL:  https://api.github.com/repos/home-assistant/core\n",
      "html_url:  https://github.com/home-assistant/core\n",
      "Description:  :house_with_garden: Open source home automation that puts local control and privacy first\n",
      "\n",
      "ID:  5483330\n",
      "Name:  you-get\n",
      "URL:  https://api.github.com/repos/soimort/you-get\n",
      "html_url:  https://github.com/soimort/you-get\n",
      "Description:  :arrow_double_down: Dumb downloader that scrapes the web\n",
      "\n",
      "ID:  81598961\n",
      "Name:  cpython\n",
      "URL:  https://api.github.com/repos/python/cpython\n",
      "html_url:  https://github.com/python/cpython\n",
      "Description:  The Python programming language\n",
      "\n",
      "ID:  29290473\n",
      "Name:  XX-Net\n",
      "URL:  https://api.github.com/repos/XX-net/XX-Net\n",
      "html_url:  https://github.com/XX-net/XX-Net\n",
      "Description:  a web proxy tool\n",
      "\n",
      "ID:  114747226\n",
      "Name:  faceswap\n",
      "URL:  https://api.github.com/repos/deepfakes/faceswap\n",
      "html_url:  https://github.com/deepfakes/faceswap\n",
      "Description:  Deepfakes Software For All\n",
      "\n",
      "ID:  91573538\n",
      "Name:  12306\n",
      "URL:  https://api.github.com/repos/testerSunshine/12306\n",
      "html_url:  https://github.com/testerSunshine/12306\n",
      "Description:  12306智能刷票，订票\n",
      "\n",
      "ID:  58028038\n",
      "Name:  HelloGitHub\n",
      "URL:  https://api.github.com/repos/521xueweihan/HelloGitHub\n",
      "html_url:  https://github.com/521xueweihan/HelloGitHub\n",
      "Description:  :octocat: Find pearls on open-source seashore 分享 GitHub 上有趣、入门级的开源项目\n",
      "\n",
      "ID:  139824423\n",
      "Name:  100-Days-Of-ML-Code\n",
      "URL:  https://api.github.com/repos/Avik-Jain/100-Days-Of-ML-Code\n",
      "html_url:  https://github.com/Avik-Jain/100-Days-Of-ML-Code\n",
      "Description:  100 Days of ML Coding\n",
      "\n",
      "ID:  41058054\n",
      "Name:  CppCoreGuidelines\n",
      "URL:  https://api.github.com/repos/isocpp/CppCoreGuidelines\n",
      "html_url:  https://github.com/isocpp/CppCoreGuidelines\n",
      "Description:  The C++ Core Guidelines are a set of tried-and-true guidelines, rules, and best practices about coding in C++\n",
      "\n",
      "ID:  26516210\n",
      "Name:  certbot\n",
      "URL:  https://api.github.com/repos/certbot/certbot\n",
      "html_url:  https://github.com/certbot/certbot\n",
      "Description:  Certbot is EFF's tool to obtain certs from Let's Encrypt and (optionally) auto-enable HTTPS on your server.  It can also act as a client for any other CA that uses the ACME protocol.\n",
      "\n",
      "ID:  70905478\n",
      "Name:  Deep-Learning-Papers-Reading-Roadmap\n",
      "URL:  https://api.github.com/repos/floodsung/Deep-Learning-Papers-Reading-Roadmap\n",
      "html_url:  https://github.com/floodsung/Deep-Learning-Papers-Reading-Roadmap\n",
      "Description:  Deep Learning papers reading roadmap for anyone who are eager to learn this amazing tech!\n",
      "\n"
     ]
    }
   ],
   "source": [
    "for nd in new_dict:\n",
    "    print('ID: ', nd['id'])\n",
    "    print('Name: ', nd['name'])\n",
    "    print('URL: ', nd['url'])\n",
    "    print('html_url: ', nd['html_url'])\n",
    "    print('Description: ', nd['description'])\n",
    "    print()"
   ]
  },
  {
   "cell_type": "code",
   "execution_count": 51,
   "metadata": {},
   "outputs": [
    {
     "data": {
      "text/plain": [
       "<Response [200]>"
      ]
     },
     "execution_count": 51,
     "metadata": {},
     "output_type": "execute_result"
    }
   ],
   "source": [
    "# monitorando os limites de uma API\n",
    "\n",
    "import requests\n",
    "\n",
    "api = 'https://api.github.com/rate_limit'\n",
    "r = requests.get(api)\n",
    "r"
   ]
  },
  {
   "cell_type": "code",
   "execution_count": 52,
   "metadata": {},
   "outputs": [
    {
     "data": {
      "text/plain": [
       "{'resources': {'core': {'limit': 60, 'remaining': 60, 'reset': 1584912442},\n",
       "  'graphql': {'limit': 0, 'remaining': 0, 'reset': 1584912442},\n",
       "  'integration_manifest': {'limit': 5000,\n",
       "   'remaining': 5000,\n",
       "   'reset': 1584912442},\n",
       "  'search': {'limit': 10, 'remaining': 10, 'reset': 1584908902}},\n",
       " 'rate': {'limit': 60, 'remaining': 60, 'reset': 1584912442}}"
      ]
     },
     "execution_count": 52,
     "metadata": {},
     "output_type": "execute_result"
    }
   ],
   "source": [
    "r.json()"
   ]
  },
  {
   "cell_type": "markdown",
   "metadata": {},
   "source": [
    "<h1>Classificando os Repositórios usando o Pygal</h1>"
   ]
  },
  {
   "cell_type": "markdown",
   "metadata": {},
   "source": [
    "<ul>\n",
    "   <li> Plotando gráficos com informações sobre a popularidade dos projetos Python no GitHub</li>\n",
    "   <li>O gráfico de barras exibe a página inicial do projeto no GitHub</li>\n",
    "</ul>"
   ]
  },
  {
   "cell_type": "code",
   "execution_count": 68,
   "metadata": {},
   "outputs": [],
   "source": [
    "import pygal\n",
    "import requests\n",
    "\n",
    "# mesmo código da primeira parte do projeto\n",
    "url_api = 'https://api.github.com/search/repositories?q=language:python&sort=stars'\n",
    "response = requests.get(url)\n",
    "\n",
    "#print('O código de resposta da API: ', response)\n",
    "x = response.json()\n",
    "# x['items']"
   ]
  },
  {
   "cell_type": "code",
   "execution_count": 77,
   "metadata": {},
   "outputs": [],
   "source": [
    "names = []\n",
    "stars = []\n",
    "final = x['items']\n",
    "\n",
    "for item in final:\n",
    "    names.append(item['name'])\n",
    "    stars.append(item['stargazers_count'])"
   ]
  },
  {
   "cell_type": "code",
   "execution_count": 91,
   "metadata": {},
   "outputs": [],
   "source": [
    "chart = pygal.Bar(x_labels= names, show_legend=True)\n",
    "chart.title = 'Avaliação dos Projetos no GitHub'\n",
    "chart.add('Popularidade', stars)\n",
    "# endereço do local para salvar o arquivo\n",
    "chart.render_to_file(r'Projeto7_api.svg')"
   ]
  },
  {
   "cell_type": "code",
   "execution_count": null,
   "metadata": {},
   "outputs": [],
   "source": []
  }
 ],
 "metadata": {
  "kernelspec": {
   "display_name": "Python 3",
   "language": "python",
   "name": "python3"
  },
  "language_info": {
   "codemirror_mode": {
    "name": "ipython",
    "version": 3
   },
   "file_extension": ".py",
   "mimetype": "text/x-python",
   "name": "python",
   "nbconvert_exporter": "python",
   "pygments_lexer": "ipython3",
   "version": "3.7.3"
  }
 },
 "nbformat": 4,
 "nbformat_minor": 2
}
