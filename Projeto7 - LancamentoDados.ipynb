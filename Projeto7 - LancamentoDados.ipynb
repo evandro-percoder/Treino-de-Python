{
 "cells": [
  {
   "cell_type": "code",
   "execution_count": 1,
   "metadata": {},
   "outputs": [
    {
     "name": "stdout",
     "output_type": "stream",
     "text": [
      "Requirement already satisfied: pygal in c:\\users\\evand\\appdata\\roaming\\python\\python37\\site-packages (2.4.0)\n"
     ]
    }
   ],
   "source": [
    "! pip install --user pygal"
   ]
  },
  {
   "cell_type": "code",
   "execution_count": 2,
   "metadata": {},
   "outputs": [],
   "source": [
    "from random import randint\n",
    "\n",
    "class Dice:\n",
    "    # classe representa 1 dado de 6 lados\n",
    "    def __init__(self, num_sides = 6):\n",
    "        self.num_sides = num_sides\n",
    "\n",
    "    def roll(self):\n",
    "        # método de lançamento que gera um resultado aleatório entre 1 e 6\n",
    "        return randint(1, self.num_sides)"
   ]
  },
  {
   "cell_type": "code",
   "execution_count": 6,
   "metadata": {},
   "outputs": [
    {
     "name": "stdout",
     "output_type": "stream",
     "text": [
      "[6, 5, 2, 2, 5, 1, 6, 5, 1, 4, 6, 5, 2, 3, 6, 1, 6, 6, 2, 4, 1, 6, 6, 3, 3, 6, 3, 1, 3, 5, 2, 6, 6, 1, 4, 2, 1, 6, 2, 5, 3, 3, 5, 6, 1, 3, 3, 3, 4, 4, 5, 3, 6, 2, 2, 3, 1, 5, 1, 4, 4, 6, 5, 3, 6, 5, 5, 5, 5, 1, 3, 1, 1, 2, 1, 1, 3, 4, 5, 2, 5, 2, 2, 6, 6, 2, 1, 4, 6, 3, 4, 1, 3, 1, 2, 6, 1, 2, 4, 6, 5, 6, 4, 1, 2, 5, 1, 2, 5, 6, 4, 6, 4, 6, 1, 5, 4, 3, 1, 5, 5, 6, 6, 3, 3, 3, 2, 1, 2, 6, 1, 2, 3, 5, 5, 4, 5, 1, 5, 2, 1, 5, 1, 2, 1, 5, 6, 6, 6, 5, 5, 5, 5, 3, 1, 4, 4, 5, 1, 6, 1, 4, 4, 4, 3, 5, 1, 6, 3, 6, 1, 5, 1, 5, 4, 1, 1, 4, 6, 1, 5, 3, 2, 6, 6, 5, 3, 2, 4, 6, 4, 3, 2, 2, 3, 6, 4, 6, 3, 6, 3, 3, 5, 6, 2, 5, 2, 4, 2, 3, 5, 2, 6, 5, 2, 1, 2, 6, 2, 2, 4, 2, 3, 1, 5, 3, 3, 5, 4, 1, 6, 4, 2, 5, 4, 6, 3, 3, 2, 1, 5, 6, 6, 2, 3, 4, 6, 5, 4, 1, 3, 3, 5, 4, 6, 1, 6, 4, 4, 3, 2, 2, 5, 3, 3, 5, 3, 1, 3, 1, 5, 6, 2, 6, 3, 5, 2, 6, 2, 3, 2, 4, 3, 2, 1, 5, 4, 2, 6, 4, 1, 5, 1, 6, 4, 3, 2, 3, 1, 4, 4, 6, 6, 4, 1, 6, 6, 6, 2, 5, 2, 4, 5, 6, 4, 4, 3, 3, 3, 4, 3, 4, 6, 1, 2, 5, 6, 5, 6, 3, 4, 2, 1, 5, 1, 3, 1, 1, 4, 6, 6, 3, 3, 6, 3, 6, 2, 4, 4, 1, 6, 3, 2, 4, 5, 5, 6, 4, 5, 3, 6, 5, 2, 5, 6, 1, 3, 1, 6, 6, 4, 3, 6, 3, 4, 3, 6, 3, 5, 2, 2, 2, 1, 6, 5, 1, 4, 5, 5, 6, 3, 6, 4, 5, 4, 1, 2, 5, 6, 1, 1, 1, 2, 4, 4, 6, 3, 5, 3, 6, 1, 1, 3, 1, 6, 3, 2, 5, 3, 2, 5, 1, 4, 4, 6, 2, 5, 1, 3, 6, 1, 6, 5, 4, 2, 4, 2, 5, 6, 2, 5, 4, 3, 3, 4, 3, 1, 3, 4, 1, 5, 6, 1, 5, 1, 1, 2, 5, 5, 5, 3, 6, 1, 6, 5, 6, 5, 4, 1, 6, 6, 1, 1, 5, 4, 1, 6, 4, 3, 2, 3, 2, 2, 5, 6, 6, 5, 3, 6, 4, 2, 5, 5, 6, 2, 2, 6, 4, 4, 6, 6, 3, 2, 2, 2, 5, 2, 3, 6, 4, 4, 1, 3, 3, 2, 2, 1, 1, 5, 2, 6, 4, 5, 1, 6, 3, 4, 5, 2, 1, 1, 5, 1, 6, 3, 4, 6, 2, 6, 4, 3, 3, 3, 5, 4, 2, 2, 3, 2, 6, 4, 2, 5, 5, 3, 1, 5, 2, 5, 3, 1, 6, 2, 4, 4, 1, 3, 5, 1, 6, 5, 6, 2, 1, 2, 2, 3, 3, 5, 5, 2, 5, 4, 3, 3, 5, 1, 6, 6, 5, 4, 4, 2, 3, 6, 2, 6, 5, 3, 5, 2, 5, 3, 1, 6, 5, 3, 6, 1, 5, 4, 5, 5, 4, 5, 3, 3, 5, 1, 2, 2, 1, 6, 2, 2, 4, 5, 4, 5, 4, 3, 6, 1, 1, 3, 6, 6, 1, 3, 3, 5, 3, 4, 6, 2, 3, 1, 5, 4, 2, 1, 4, 1, 1, 5, 4, 3, 6, 6, 2, 6, 6, 2, 5, 2, 1, 4, 1, 6, 4, 5, 3, 4, 1, 3, 6, 3, 4, 2, 4, 2, 1, 3, 4, 4, 5, 4, 2, 3, 1, 1, 6, 6, 6, 4, 1, 1, 2, 1, 3, 6, 2, 6, 2, 1, 3, 6, 2, 2, 5, 1, 5, 2, 3, 1, 2, 4, 6, 2, 1, 2, 3, 5, 5, 5, 5, 5, 6, 4, 6, 3, 3, 3, 1, 3, 6, 1, 6, 6, 4, 3, 3, 2, 1, 4, 5, 2, 5, 3, 2, 5, 1, 1, 4, 2, 4, 4, 1, 2, 2, 3, 5, 2, 3, 5, 4, 4, 6, 6, 5, 4, 3, 4, 5, 2, 6, 2, 4, 1, 1, 5, 6, 2, 1, 2, 6, 6, 1, 2, 5, 3, 5, 1, 4, 1, 6, 1, 3, 3, 3, 1, 1, 3, 1, 2, 2, 2, 6, 5, 2, 6, 1, 6, 6, 3, 1, 3, 4, 6, 5, 3, 4, 6, 6, 5, 6, 3, 4, 1, 3, 5, 2, 3, 2, 1, 6, 4, 4, 1, 5, 2, 2, 6, 2, 4, 5, 6, 5, 1, 1, 2, 6, 4, 5, 6, 5, 3, 3, 5, 1, 2, 3, 4, 5, 1, 2, 1, 3, 4, 3, 4, 6, 2, 6, 6, 2, 5, 6, 2, 4, 4, 4, 2, 1, 3, 2, 6, 3, 4, 6, 3, 6, 3, 1, 3, 6, 2, 4, 5, 6, 2, 2, 1, 1, 5, 1, 4, 4, 1, 5, 4, 3, 1, 5, 3, 2, 1, 2, 4, 1, 6, 1, 1, 4, 1, 5, 1, 4, 6, 2, 3, 5, 4, 3, 5, 6, 2, 4, 6, 5, 1, 1, 3, 5, 6, 4, 2, 1, 5, 1, 6, 3, 2, 1, 2, 5, 5, 4, 6, 1, 3, 2, 3, 3, 2, 2, 3, 5, 3, 4, 5, 4, 5, 5, 6, 1, 1, 1, 2, 1, 6, 2, 3, 5, 4, 2, 1, 5, 1, 4, 5, 3, 4, 3, 3, 3, 3, 2, 4, 3]\n",
      "[169, 162, 170, 149, 171, 179]\n"
     ]
    }
   ],
   "source": [
    "\"\"\"from dice import Dice\"\"\"\n",
    "import pygal\n",
    "\n",
    "\n",
    "# criando um dado (objeto)\n",
    "d1  = Dice()\n",
    "\n",
    "# lançando o dados e armazenando os resultados em uma lista\n",
    "results = []\n",
    "# lançando o dado 1000 vezes\n",
    "for roll_num in range(1000):\n",
    "    result = d1.roll()\n",
    "    results.append(result)\n",
    "print(results)\n",
    "\n",
    "frequencies = []\n",
    "for value in range(1, d1.num_sides + 1):\n",
    "    frequency = results.count(value)\n",
    "    frequencies.append(frequency)\n",
    "print(frequencies)"
   ]
  },
  {
   "cell_type": "code",
   "execution_count": 7,
   "metadata": {},
   "outputs": [],
   "source": [
    "from random import randint\n",
    "import pygal\n",
    "\n",
    "hist = pygal.Bar()\n",
    "hist.title = \"Results of rolling one D6 1000 times.\"\n",
    "hist.x_labels = ['1', '2', '3', '4', '5', '6']\n",
    "hist.x_title = \"Result\"\n",
    "hist.y_title = \"Frequency of Result\"\n",
    "hist.add('D6', frequencies)\n",
    "hist.render_to_file('die_visual.svg')"
   ]
  },
  {
   "cell_type": "code",
   "execution_count": null,
   "metadata": {},
   "outputs": [],
   "source": []
  }
 ],
 "metadata": {
  "kernelspec": {
   "display_name": "Python 3",
   "language": "python",
   "name": "python3"
  },
  "language_info": {
   "codemirror_mode": {
    "name": "ipython",
    "version": 3
   },
   "file_extension": ".py",
   "mimetype": "text/x-python",
   "name": "python",
   "nbconvert_exporter": "python",
   "pygments_lexer": "ipython3",
   "version": "3.7.3"
  }
 },
 "nbformat": 4,
 "nbformat_minor": 2
}
